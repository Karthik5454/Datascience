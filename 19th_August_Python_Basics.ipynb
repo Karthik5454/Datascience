{
  "nbformat": 4,
  "nbformat_minor": 0,
  "metadata": {
    "colab": {
      "provenance": []
    },
    "kernelspec": {
      "name": "python3",
      "display_name": "Python 3"
    },
    "language_info": {
      "name": "python"
    }
  },
  "cells": [
    {
      "cell_type": "markdown",
      "source": [
        "###**TOPIC**: Python Basics Variable bold text"
      ],
      "metadata": {
        "id": "IaZ8V68xPZAn"
      }
    },
    {
      "cell_type": "markdown",
      "source": [
        "1. Declare two variables, `x` and `y`, and assign them integer values. Swap the\n",
        "values of these variables without using any temporary variable."
      ],
      "metadata": {
        "id": "c77vogBGPpT7"
      }
    },
    {
      "cell_type": "code",
      "source": [
        "x = 10\n",
        "y = 20\n",
        "x,y = y,x\n",
        "print(\"x value is\", x)\n",
        "print(\"y value is\", y)"
      ],
      "metadata": {
        "colab": {
          "base_uri": "https://localhost:8080/"
        },
        "id": "mQSAotExP12J",
        "outputId": "5730cbec-42c4-45c0-9439-74b24b3eab74"
      },
      "execution_count": 3,
      "outputs": [
        {
          "output_type": "stream",
          "name": "stdout",
          "text": [
            "x value is 20\n",
            "y value is 10\n"
          ]
        }
      ]
    },
    {
      "cell_type": "markdown",
      "source": [
        "2. Create a program that calculates the area of a rectangle. Take the length and\n",
        "width as inputs from the user and store them in variables. Calculate and\n",
        "display the area."
      ],
      "metadata": {
        "id": "1Ekd-ePtQALz"
      }
    },
    {
      "cell_type": "code",
      "source": [
        "length = float(input(\"Enter the length of the rectangle: \"))\n",
        "width = float(input(\"Enter the width of the rectangle: \"))\n",
        "\n",
        "area = length * width\n",
        "print(\"The area of the rectangle is:\", area)"
      ],
      "metadata": {
        "colab": {
          "base_uri": "https://localhost:8080/"
        },
        "id": "nVUqsiGrQCZb",
        "outputId": "ae58d4dc-25d5-4a66-c2b6-9bd2bae3f734"
      },
      "execution_count": 5,
      "outputs": [
        {
          "output_type": "stream",
          "name": "stdout",
          "text": [
            "Enter the length of the rectangle: 10\n",
            "Enter the width of the rectangle: 20\n",
            "The area of the rectangle is: 200.0\n"
          ]
        }
      ]
    },
    {
      "cell_type": "markdown",
      "source": [
        "3. Write a Python program that converts temperatures from Celsius to\n",
        "Fahrenheit. Take the temperature in Celsius as input, store it in a variable,\n",
        "convert it to Fahrenheit, and display the result."
      ],
      "metadata": {
        "id": "qQ92zuLeQN2A"
      }
    },
    {
      "cell_type": "code",
      "source": [
        "celsius = float(input(\"Enter temperature in Celsius: \"))\n",
        "\n",
        "fahrenheit = (celsius * 9/5) + 32\n",
        "\n",
        "print(f\"{celsius} degrees Celsius is equal to {fahrenheit:.2f} degrees Fahrenheit\")"
      ],
      "metadata": {
        "colab": {
          "base_uri": "https://localhost:8080/"
        },
        "id": "ES1ROymDQSND",
        "outputId": "e660aef5-ad7f-4b68-c1f0-8780a6012032"
      },
      "execution_count": 6,
      "outputs": [
        {
          "output_type": "stream",
          "name": "stdout",
          "text": [
            "Enter temperature in Celsius: 10\n",
            "10.0 degrees Celsius is equal to 50.00 degrees Fahrenheit\n"
          ]
        }
      ]
    },
    {
      "cell_type": "markdown",
      "source": [
        "###**TOPIC: String Based Questions**"
      ],
      "metadata": {
        "id": "EIjJazS8QfHz"
      }
    },
    {
      "cell_type": "markdown",
      "source": [
        "1. Write a Python program that takes a string as input and prints the length of\n",
        "the string."
      ],
      "metadata": {
        "id": "jFOTnntQQnhu"
      }
    },
    {
      "cell_type": "code",
      "source": [
        "user_input = input(\"Enter a string: \")\n",
        "\n",
        "length = len(user_input)\n",
        "\n",
        "print(f\"The length of the string is: {length}\")"
      ],
      "metadata": {
        "colab": {
          "base_uri": "https://localhost:8080/"
        },
        "id": "-UmEkrC3Qq70",
        "outputId": "e9dccc46-3a98-4420-90d2-c1ea34fbb9c7"
      },
      "execution_count": 7,
      "outputs": [
        {
          "output_type": "stream",
          "name": "stdout",
          "text": [
            "Enter a string: karthikk\n",
            "The length of the string is: 8\n"
          ]
        }
      ]
    },
    {
      "cell_type": "markdown",
      "source": [
        "2. Create a program that takes a sentence from the user and counts the number\n",
        "of vowels (a, e, i, o, u) in the string."
      ],
      "metadata": {
        "id": "iwUyVcoZQ0HR"
      }
    },
    {
      "cell_type": "code",
      "source": [
        "user_input = input(\"enter a string: \")\n",
        "counter = 0\n",
        "for item in user_input:\n",
        "    if item in ['a', 'e', 'i', 'o', 'u']:\n",
        "        counter += 1\n",
        "print(\"number of vowels present in the user input is {}\".format(counter))"
      ],
      "metadata": {
        "colab": {
          "base_uri": "https://localhost:8080/"
        },
        "id": "rfK6i3dKQ12G",
        "outputId": "1aa853e5-c468-4f5b-b870-5d258f9c0192"
      },
      "execution_count": 8,
      "outputs": [
        {
          "output_type": "stream",
          "name": "stdout",
          "text": [
            "enter a string: level\n",
            "number of vowels present in the user input is 2\n"
          ]
        }
      ]
    },
    {
      "cell_type": "markdown",
      "source": [
        "3. Given a string, reverse the order of characters using string slicing and print\n",
        "the reversed string."
      ],
      "metadata": {
        "id": "_R5kWaXiRHSJ"
      }
    },
    {
      "cell_type": "code",
      "source": [
        "string = \"reverse\"\n",
        "print(string[::-1])"
      ],
      "metadata": {
        "colab": {
          "base_uri": "https://localhost:8080/"
        },
        "id": "t7G8pBSaRH5D",
        "outputId": "8c49a87e-07b4-4b3b-9651-0c673f1f5378"
      },
      "execution_count": 9,
      "outputs": [
        {
          "output_type": "stream",
          "name": "stdout",
          "text": [
            "esrever\n"
          ]
        }
      ]
    },
    {
      "cell_type": "markdown",
      "source": [
        "4. Write a program that takes a string as input and checks if it is a palindrome\n",
        "(reads the same forwards and backwards)."
      ],
      "metadata": {
        "id": "bjihFqr3RPqZ"
      }
    },
    {
      "cell_type": "code",
      "source": [
        "user_input = input(\"Enter a string: \")\n",
        "\n",
        "if user_input == user_input[::-1]:\n",
        "    print(\"The input string is a palindrome.\")\n",
        "else:\n",
        "    print(\"The input string is not a palindrome.\")"
      ],
      "metadata": {
        "colab": {
          "base_uri": "https://localhost:8080/"
        },
        "id": "gw8heHmwRRJL",
        "outputId": "c043be9e-3217-48a6-f607-cade91336c33"
      },
      "execution_count": 10,
      "outputs": [
        {
          "output_type": "stream",
          "name": "stdout",
          "text": [
            "Enter a string: level\n",
            "The input string is a palindrome.\n"
          ]
        }
      ]
    },
    {
      "cell_type": "markdown",
      "source": [
        "5. Create a program that takes a string as input and removes all the spaces from\n",
        "it. Print the modified string without spaces."
      ],
      "metadata": {
        "id": "GmSPJeZhRcog"
      }
    },
    {
      "cell_type": "code",
      "source": [
        "user_input = input(\"Enter a string: \")\n",
        "\n",
        "modified_string = user_input.replace(\" \", \"\")\n",
        "\n",
        "print(\"Modified string without spaces:\", modified_string)\n"
      ],
      "metadata": {
        "colab": {
          "base_uri": "https://localhost:8080/"
        },
        "id": "BVA-b-xfRdt_",
        "outputId": "01edc4d7-f63a-4c98-fba7-ea8c98b25c8a"
      },
      "execution_count": 11,
      "outputs": [
        {
          "output_type": "stream",
          "name": "stdout",
          "text": [
            "Enter a string: karthik jagan   \n",
            "Modified string without spaces: karthikjagan\n"
          ]
        }
      ]
    }
  ]
}